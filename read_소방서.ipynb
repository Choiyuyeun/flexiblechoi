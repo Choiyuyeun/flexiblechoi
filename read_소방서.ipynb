{
  "nbformat": 4,
  "nbformat_minor": 0,
  "metadata": {
    "colab": {
      "provenance": [],
      "authorship_tag": "ABX9TyNLXst28z6YhRAHrUasAOtu",
      "include_colab_link": true
    },
    "kernelspec": {
      "name": "python3",
      "display_name": "Python 3"
    },
    "language_info": {
      "name": "python"
    }
  },
  "cells": [
    {
      "cell_type": "markdown",
      "metadata": {
        "id": "view-in-github",
        "colab_type": "text"
      },
      "source": [
        "<a href=\"https://colab.research.google.com/github/Choiyuyeun/flexiblechoi/blob/main/read_%EC%86%8C%EB%B0%A9%EC%84%9C.ipynb\" target=\"_parent\"><img src=\"https://colab.research.google.com/assets/colab-badge.svg\" alt=\"Open In Colab\"/></a>"
      ]
    },
    {
      "cell_type": "code",
      "execution_count": 16,
      "metadata": {
        "colab": {
          "base_uri": "https://localhost:8080/"
        },
        "id": "kNHbMUEzbt3l",
        "outputId": "53a1a745-2d29-454d-ec24-9e7a0d4c0bf5"
      },
      "outputs": [
        {
          "output_type": "stream",
          "name": "stdout",
          "text": [
            "<?xml version=\"1.0\" encoding=\"UTF-8\"?><response><header><resultMsg>NORMAL SERVICE</resultMsg><resultCode>00</resultCode></header><numOfRows>2</numOfRows><pageNo>1</pageNo><totalCount>601</totalCount><body><items><item><sidoHqOgidNm>충청남도소방본부</sidoHqOgidNm><frnrAt>N</frnrAt><ptntSdtSeCdNm>남</ptntSdtSeCdNm><anmlInctCdNm/><stmtYm>202101</stmtYm><ruptOccrPlcCdNm>집</ruptOccrPlcCdNm><rsacGutFsttOgidNm>공주소방서</rsacGutFsttOgidNm><ptntTyCdNm>무직</ptntTyCdNm><ptntAge>79</ptntAge><rlifAcdAsmCdNm/><stmtHh>20</stmtHh><rlifOccrTyCdNm>질병</rlifOccrTyCdNm><wmhtDamgCdNm/></item><item><sidoHqOgidNm>충청남도소방본부</sidoHqOgidNm><frnrAt>N</frnrAt><ptntSdtSeCdNm>여</ptntSdtSeCdNm><anmlInctCdNm/><stmtYm>202101</stmtYm><ruptOccrPlcCdNm>집</ruptOccrPlcCdNm><rsacGutFsttOgidNm>공주소방서</rsacGutFsttOgidNm><ptntTyCdNm>주부</ptntTyCdNm><ptntAge>39</ptntAge><rlifAcdAsmCdNm/><stmtHh>19</stmtHh><rlifOccrTyCdNm>질병</rlifOccrTyCdNm><wmhtDamgCdNm/></item></items></body></response>\n"
          ]
        }
      ],
      "source": [
        "import requests\n",
        "from bs4 import BeautifulSoup\n",
        "url = 'http://apis.data.go.kr/1661000/EmergencyInformationService/getEmgPatientTransferInfo'\n",
        "params ={'serviceKey' : 'QGw344G2RN36WAAHQ7qAxY5zSuwaklrb0dtKWKStw+ZU4Nof5B3xSBTRHICoGsTbCoZK+tPca232wkY90iDHNA==', 'pageNo' : '1', 'numOfRows' : '2', 'resultType' : 'xml', 'sidoHqOgidNm' : '충청남도소방본부', 'rsacGutFsttOgidNm' : '공주소방서', 'stmtYm' : '202101' }\n",
        "\n",
        "response = requests.get(url, params=params)\n",
        "print(response.content.decode('utf8'))"
      ]
    },
    {
      "cell_type": "code",
      "source": [
        "soup = BeautifulSoup(response.text,features=\"xml\")\n",
        "print(soup.find_all('rsacGutFsttOgidNm'))"
      ],
      "metadata": {
        "colab": {
          "base_uri": "https://localhost:8080/"
        },
        "id": "hu34kwFAwmIB",
        "outputId": "1f72a68d-93f4-4507-f00c-f33123072121"
      },
      "execution_count": 31,
      "outputs": [
        {
          "output_type": "stream",
          "name": "stdout",
          "text": [
            "[<rsacGutFsttOgidNm>공주소방서</rsacGutFsttOgidNm>, <rsacGutFsttOgidNm>공주소방서</rsacGutFsttOgidNm>]\n"
          ]
        }
      ]
    }
  ]
}