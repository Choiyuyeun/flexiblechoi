{
  "nbformat": 4,
  "nbformat_minor": 0,
  "metadata": {
    "colab": {
      "provenance": [],
      "authorship_tag": "ABX9TyPrfSeRrucH068ku41XEZJd",
      "include_colab_link": true
    },
    "kernelspec": {
      "name": "python3",
      "display_name": "Python 3"
    },
    "language_info": {
      "name": "python"
    }
  },
  "cells": [
    {
      "cell_type": "markdown",
      "metadata": {
        "id": "view-in-github",
        "colab_type": "text"
      },
      "source": [
        "<a href=\"https://colab.research.google.com/github/Choiyuyeun/flexiblechoi/blob/main/9%EC%9B%94_4%EC%9D%BC_%EA%B3%BC%EC%A0%9C_2.ipynb\" target=\"_parent\"><img src=\"https://colab.research.google.com/assets/colab-badge.svg\" alt=\"Open In Colab\"/></a>"
      ]
    },
    {
      "cell_type": "code",
      "execution_count": 1,
      "metadata": {
        "colab": {
          "base_uri": "https://localhost:8080/"
        },
        "id": "0zT5WfIm8Pgj",
        "outputId": "520b1598-47ca-4067-8639-66e14957aa38"
      },
      "outputs": [
        {
          "output_type": "stream",
          "name": "stdout",
          "text": [
            "Collecting paho-mqtt\n",
            "  Downloading paho_mqtt-2.0.0-py3-none-any.whl (66 kB)\n",
            "\u001b[2K     \u001b[90m━━━━━━━━━━━━━━━━━━━━━━━━━━━━━━━━━━━━━━━━\u001b[0m \u001b[32m66.9/66.9 kB\u001b[0m \u001b[31m1.5 MB/s\u001b[0m eta \u001b[36m0:00:00\u001b[0m\n",
            "\u001b[?25hInstalling collected packages: paho-mqtt\n",
            "Successfully installed paho-mqtt-2.0.0\n"
          ]
        }
      ],
      "source": [
        "!pip install paho-mqtt"
      ]
    },
    {
      "cell_type": "code",
      "source": [
        "import json\n",
        "import requests\n",
        "n=0\n",
        "\n",
        "def doit(topic, payload):\n",
        "  global n\n",
        "  print(topic, payload)\n",
        "  j=json.loads(payload)\n",
        "  #print(j['co2'])\n",
        "  #url='https://api.thingspeak.com/update?api_key=MBXHFKNOS3NTXOGA'\n",
        "  url='https://api.thingspeak.com/update?api_key=UFM7H5T0DHUHLOGO&field1=0'\n",
        "  url +='&field1='+j['co2']\n",
        "  url +='&field2='+j['bme680'].split(',')[0]\n",
        "  if n>15:\n",
        "    r=requests.get(url)\n",
        "    print(url, r.text)\n",
        "    n=0\n",
        "  n+=1"
      ],
      "metadata": {
        "id": "5hhjszI48VbB"
      },
      "execution_count": 4,
      "outputs": []
    },
    {
      "cell_type": "code",
      "source": [
        "import paho.mqtt.client as mqtt\n",
        "\n",
        "def on_connect(client, userdata, flags, reason_code, properties):\n",
        "    print(f\"Connected with result code {reason_code}\")\n",
        "    client.subscribe(\"connectware/indoor/data/1501\")\n",
        "\n",
        "def on_message(client, userdata, msg):\n",
        "    doit(msg.topic, msg.payload.decode('utf8'))\n",
        "\n",
        "client = mqtt.Client(mqtt.CallbackAPIVersion.VERSION2)\n",
        "client.on_connect = on_connect\n",
        "client.on_message = on_message\n",
        "\n",
        "client.connect(\"damoa.io\", 1883, 60)\n",
        "client.loop_forever()"
      ],
      "metadata": {
        "colab": {
          "base_uri": "https://localhost:8080/"
        },
        "id": "x4ptrbmp8ijy",
        "outputId": "4a208efa-73d8-4b84-898c-76ef6587913c"
      },
      "execution_count": null,
      "outputs": [
        {
          "output_type": "stream",
          "name": "stdout",
          "text": [
            "Connected with result code Success\n",
            "connectware/indoor/data/1501 {\"dust\":\"12,12\",\"co2\":\"399\",\"bme680\":\"25.62,31.68,900870,100909,34.69\",\"time\":\"2024-04-04 20:59:56\", \"serial\":20052, \"ip\":\"203.255.190.49\"}\n",
            "connectware/indoor/data/1501 {\"dust\":\"12,12\",\"co2\":\"399\",\"bme680\":\"25.62,31.66,902684,100910,34.53\",\"time\":\"2024-04-04 20:59:57\", \"serial\":20053, \"ip\":\"203.255.190.49\"}\n",
            "connectware/indoor/data/1501 {\"dust\":\"12,12\",\"co2\":\"399\",\"bme680\":\"25.62,31.67,902079,100912,34.53\",\"time\":\"2024-04-04 20:59:58\", \"serial\":20054, \"ip\":\"203.255.190.49\"}\n",
            "connectware/indoor/data/1501 {\"dust\":\"11,11\",\"co2\":\"399\",\"bme680\":\"25.62,31.67,902079,100912,34.44\",\"time\":\"2024-04-04 20:59:59\", \"serial\":20055, \"ip\":\"203.255.190.49\"}\n",
            "connectware/indoor/data/1501 {\"dust\":\"11,11\",\"co2\":\"399\",\"bme680\":\"25.62,31.66,902079,100912,34.44\",\"time\":\"2024-04-04 21:00:00\", \"serial\":20056, \"ip\":\"203.255.190.49\"}\n",
            "connectware/indoor/data/1501 {\"dust\":\"11,11\",\"co2\":\"399\",\"bme680\":\"25.62,31.67,902684,100912,34.44\",\"time\":\"2024-04-04 21:00:01\", \"serial\":20057, \"ip\":\"203.255.190.49\"}\n",
            "connectware/indoor/data/1501 {\"dust\":\"12,12\",\"co2\":\"399\",\"bme680\":\"25.62,31.66,900267,100912,34.44\",\"time\":\"2024-04-04 21:00:02\", \"serial\":20058, \"ip\":\"203.255.190.49\"}\n",
            "connectware/indoor/data/1501 {\"dust\":\"12,12\",\"co2\":\"399\",\"bme680\":\"25.62,31.68,900267,100912,34.53\",\"time\":\"2024-04-04 21:00:03\", \"serial\":20059, \"ip\":\"203.255.190.49\"}\n",
            "connectware/indoor/data/1501 {\"dust\":\"12,12\",\"co2\":\"399\",\"bme680\":\"25.62,31.65,900870,100912,34.44\",\"time\":\"2024-04-04 21:00:04\", \"serial\":20060, \"ip\":\"203.255.190.49\"}\n",
            "connectware/indoor/data/1501 {\"dust\":\"11,11\",\"co2\":\"399\",\"bme680\":\"25.62,31.67,901474,100912,34.36\",\"time\":\"2024-04-04 21:00:05\", \"serial\":20061, \"ip\":\"203.255.190.49\"}\n",
            "connectware/indoor/data/1501 {\"dust\":\"11,11\",\"co2\":\"399\",\"bme680\":\"25.62,31.67,901474,100912,34.36\",\"time\":\"2024-04-04 21:00:06\", \"serial\":20062, \"ip\":\"203.255.190.49\"}\n",
            "connectware/indoor/data/1501 {\"dust\":\"11,11\",\"co2\":\"399\",\"bme680\":\"25.62,31.66,899665,100912,34.44\",\"time\":\"2024-04-04 21:00:07\", \"serial\":20063, \"ip\":\"203.255.190.49\"}\n",
            "connectware/indoor/data/1501 {\"dust\":\"11,11\",\"co2\":\"399\",\"bme680\":\"25.62,31.66,902684,100912,34.44\",\"time\":\"2024-04-04 21:00:08\", \"serial\":20064, \"ip\":\"203.255.190.49\"}\n",
            "connectware/indoor/data/1501 {\"dust\":\"10,10\",\"co2\":\"399\",\"bme680\":\"25.62,31.67,902079,100912,34.44\",\"time\":\"2024-04-04 21:00:09\", \"serial\":20065, \"ip\":\"203.255.190.49\"}\n",
            "connectware/indoor/data/1501 {\"dust\":\"10,10\",\"co2\":\"399\",\"bme680\":\"25.62,31.67,903290,100912,34.36\",\"time\":\"2024-04-04 21:00:10\", \"serial\":20066, \"ip\":\"203.255.190.49\"}\n",
            "connectware/indoor/data/1501 {\"dust\":\"10,11\",\"co2\":\"399\",\"bme680\":\"25.62,31.66,902079,100913,34.36\",\"time\":\"2024-04-04 21:00:11\", \"serial\":20067, \"ip\":\"203.255.190.49\"}\n",
            "connectware/indoor/data/1501 {\"dust\":\"9,10\",\"co2\":\"399\",\"bme680\":\"25.62,31.68,902079,100913,34.36\",\"time\":\"2024-04-04 21:00:12\", \"serial\":20068, \"ip\":\"203.255.190.49\"}\n",
            "https://api.thingspeak.com/update?api_key=UFM7H5T0DHUHLOGO&field1=0&field1=399&field2=25.62 6\n",
            "connectware/indoor/data/1501 {\"dust\":\"10,11\",\"co2\":\"399\",\"bme680\":\"25.62,31.67,901474,100913,34.27\",\"time\":\"2024-04-04 21:00:13\", \"serial\":20069, \"ip\":\"203.255.190.49\"}\n",
            "connectware/indoor/data/1501 {\"dust\":\"11,12\",\"co2\":\"399\",\"bme680\":\"25.62,31.68,901474,100913,34.36\",\"time\":\"2024-04-04 21:00:14\", \"serial\":20070, \"ip\":\"203.255.190.49\"}\n",
            "connectware/indoor/data/1501 {\"dust\":\"11,12\",\"co2\":\"399\",\"bme680\":\"25.62,31.67,900870,100912,34.44\",\"time\":\"2024-04-04 21:00:15\", \"serial\":20071, \"ip\":\"203.255.190.49\"}\n",
            "connectware/indoor/data/1501 {\"dust\":\"11,12\",\"co2\":\"399\",\"bme680\":\"25.62,31.68,901474,100912,34.36\",\"time\":\"2024-04-04 21:00:16\", \"serial\":20072, \"ip\":\"203.255.190.49\"}\n",
            "connectware/indoor/data/1501 {\"dust\":\"11,12\",\"co2\":\"399\",\"bme680\":\"25.62,31.67,905114,100912,34.44\",\"time\":\"2024-04-04 21:00:17\", \"serial\":20073, \"ip\":\"203.255.190.49\"}\n",
            "connectware/indoor/data/1501 {\"dust\":\"12,13\",\"co2\":\"399\",\"bme680\":\"25.62,31.66,900870,100913,34.36\",\"time\":\"2024-04-04 21:00:18\", \"serial\":20074, \"ip\":\"203.255.190.49\"}\n",
            "connectware/indoor/data/1501 {\"dust\":\"12,13\",\"co2\":\"399\",\"bme680\":\"25.62,31.68,903290,100913,34.44\",\"time\":\"2024-04-04 21:00:19\", \"serial\":20075, \"ip\":\"203.255.190.49\"}\n",
            "connectware/indoor/data/1501 {\"dust\":\"12,13\",\"co2\":\"399\",\"bme680\":\"25.62,31.67,901474,100912,34.36\",\"time\":\"2024-04-04 21:00:20\", \"serial\":20076, \"ip\":\"203.255.190.49\"}\n",
            "connectware/indoor/data/1501 {\"dust\":\"12,13\",\"co2\":\"399\",\"bme680\":\"25.62,31.66,900267,100912,34.36\",\"time\":\"2024-04-04 21:00:21\", \"serial\":20077, \"ip\":\"203.255.190.49\"}\n",
            "connectware/indoor/data/1501 {\"dust\":\"12,13\",\"co2\":\"399\",\"bme680\":\"25.62,31.67,900870,100913,34.36\",\"time\":\"2024-04-04 21:00:22\", \"serial\":20078, \"ip\":\"203.255.190.49\"}\n",
            "connectware/indoor/data/1501 {\"dust\":\"13,14\",\"co2\":\"399\",\"bme680\":\"25.62,31.67,902079,100914,34.19\",\"time\":\"2024-04-04 21:00:23\", \"serial\":20079, \"ip\":\"203.255.190.49\"}\n",
            "connectware/indoor/data/1501 {\"dust\":\"12,13\",\"co2\":\"399\",\"bme680\":\"25.62,31.68,903290,100914,34.27\",\"time\":\"2024-04-04 21:00:24\", \"serial\":20080, \"ip\":\"203.255.190.49\"}\n",
            "connectware/indoor/data/1501 {\"dust\":\"12,13\",\"co2\":\"399\",\"bme680\":\"25.62,31.66,902079,100913,34.36\",\"time\":\"2024-04-04 21:00:25\", \"serial\":20081, \"ip\":\"203.255.190.49\"}\n",
            "connectware/indoor/data/1501 {\"dust\":\"12,13\",\"co2\":\"399\",\"bme680\":\"25.62,31.67,899665,100912,34.44\",\"time\":\"2024-04-04 21:00:26\", \"serial\":20082, \"ip\":\"203.255.190.49\"}\n",
            "connectware/indoor/data/1501 {\"dust\":\"12,13\",\"co2\":\"399\",\"bme680\":\"25.62,31.67,901474,100912,34.53\",\"time\":\"2024-04-04 21:00:27\", \"serial\":20083, \"ip\":\"203.255.190.49\"}\n",
            "connectware/indoor/data/1501 {\"dust\":\"12,12\",\"co2\":\"399\",\"bme680\":\"25.62,31.68,898463,100911,34.53\",\"time\":\"2024-04-04 21:00:28\", \"serial\":20084, \"ip\":\"203.255.190.49\"}\n",
            "https://api.thingspeak.com/update?api_key=UFM7H5T0DHUHLOGO&field1=0&field1=399&field2=25.62 7\n",
            "connectware/indoor/data/1501 {\"dust\":\"12,12\",\"co2\":\"399\",\"bme680\":\"25.62,31.68,903897,100911,34.36\",\"time\":\"2024-04-04 21:00:29\", \"serial\":20085, \"ip\":\"203.255.190.49\"}\n",
            "connectware/indoor/data/1501 {\"dust\":\"12,12\",\"co2\":\"399\",\"bme680\":\"25.62,31.67,902684,100912,34.36\",\"time\":\"2024-04-04 21:00:30\", \"serial\":20086, \"ip\":\"203.255.190.49\"}\n",
            "connectware/indoor/data/1501 {\"dust\":\"13,14\",\"co2\":\"399\",\"bme680\":\"25.62,31.67,899064,100913,34.44\",\"time\":\"2024-04-04 21:00:31\", \"serial\":20087, \"ip\":\"203.255.190.49\"}\n",
            "connectware/indoor/data/1501 {\"dust\":\"13,14\",\"co2\":\"399\",\"bme680\":\"25.62,31.67,901474,100912,34.44\",\"time\":\"2024-04-04 21:00:32\", \"serial\":20088, \"ip\":\"203.255.190.49\"}\n",
            "connectware/indoor/data/1501 {\"dust\":\"12,13\",\"co2\":\"399\",\"bme680\":\"25.62,31.67,902079,100912,34.36\",\"time\":\"2024-04-04 21:00:33\", \"serial\":20089, \"ip\":\"203.255.190.49\"}\n",
            "connectware/indoor/data/1501 {\"dust\":\"12,13\",\"co2\":\"399\",\"bme680\":\"25.62,31.68,899665,100912,34.44\",\"time\":\"2024-04-04 21:00:34\", \"serial\":20090, \"ip\":\"203.255.190.49\"}\n",
            "connectware/indoor/data/1501 {\"dust\":\"11,12\",\"co2\":\"399\",\"bme680\":\"25.62,31.67,899064,100912,34.36\",\"time\":\"2024-04-04 21:00:35\", \"serial\":20091, \"ip\":\"203.255.190.49\"}\n",
            "connectware/indoor/data/1501 {\"dust\":\"11,12\",\"co2\":\"399\",\"bme680\":\"25.62,31.67,902079,100912,34.36\",\"time\":\"2024-04-04 21:00:36\", \"serial\":20092, \"ip\":\"203.255.190.49\"}\n",
            "connectware/indoor/data/1501 {\"dust\":\"11,12\",\"co2\":\"399\",\"bme680\":\"25.62,31.66,900870,100912,34.44\",\"time\":\"2024-04-04 21:00:37\", \"serial\":20093, \"ip\":\"203.255.190.49\"}\n",
            "connectware/indoor/data/1501 {\"dust\":\"11,12\",\"co2\":\"399\",\"bme680\":\"25.62,31.66,901474,100912,34.44\",\"time\":\"2024-04-04 21:00:38\", \"serial\":20094, \"ip\":\"203.255.190.49\"}\n",
            "connectware/indoor/data/1501 {\"dust\":\"11,12\",\"co2\":\"399\",\"bme680\":\"25.62,31.67,902079,100912,34.36\",\"time\":\"2024-04-04 21:00:39\", \"serial\":20095, \"ip\":\"203.255.190.49\"}\n",
            "connectware/indoor/data/1501 {\"dust\":\"10,11\",\"co2\":\"399\",\"bme680\":\"25.62,31.66,901474,100913,34.36\",\"time\":\"2024-04-04 21:00:40\", \"serial\":20096, \"ip\":\"203.255.190.49\"}\n"
          ]
        }
      ]
    }
  ]
}